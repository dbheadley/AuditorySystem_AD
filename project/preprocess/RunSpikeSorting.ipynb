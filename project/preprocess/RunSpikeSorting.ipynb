{
 "cells": [
  {
   "cell_type": "markdown",
   "metadata": {},
   "source": [
    "# Running spike sorting on Neuropixel probe data"
   ]
  },
  {
   "cell_type": "code",
   "execution_count": 1,
   "metadata": {},
   "outputs": [],
   "source": [
    "# need library to save as json\n",
    "import os\n",
    "import re\n",
    "import subprocess\n",
    "from pathlib import Path\n",
    "import numpy as np\n",
    "from kilosort.io import save_probe\n",
    "from kilosort.parameters import DEFAULT_SETTINGS\n",
    "from kilosort.run_kilosort import run_kilosort\n",
    "import SGLXMetaToCoords as sglx"
   ]
  },
  {
   "cell_type": "markdown",
   "metadata": {},
   "source": [
    "### Sorting data from 24-05-31"
   ]
  },
  {
   "cell_type": "code",
   "execution_count": 3,
   "metadata": {},
   "outputs": [
    {
     "name": "stdout",
     "output_type": "stream",
     "text": [
      "Files directory: D:\\SortingTemp\\24-05-31_DH23_A1-IC_g0\\24-05-31_DH23_A1-IC_g0_imec0\n",
      "Meta file: D:\\SortingTemp\\24-05-31_DH23_A1-IC_g0\\24-05-31_DH23_A1-IC_g0_imec0\\24-05-31_DH23_A1-IC_g0_t0.imec0.ap.meta\n",
      "Binary file: D:\\SortingTemp\\24-05-31_DH23_A1-IC_g0\\24-05-31_DH23_A1-IC_g0_imec0\\24-05-31_DH23_A1-IC_g0_t0.imec0.ap.bin\n",
      "Data directory: D:\\SortingTemp\n",
      "Run name: 24-05-31_DH23_A1-IC\n",
      "Gate number: 0\n",
      "Trigger number: 0\n",
      "Probe number: 0\n"
     ]
    },
    {
     "data": {
      "image/png": "[encoded data removed]",
      "text/plain": [
       "<Figure size 200x1200 with 1 Axes>"
      ]
     },
     "metadata": {},
     "output_type": "display_data"
    },
    {
     "name": "stdout",
     "output_type": "stream",
     "text": [
      "Saving probe file to: D:\\SortingTemp\\24-05-31_DH23_A1-IC_g0\\24-05-31_DH23_A1-IC_g0_imec0\\probe.json\n",
      "Running CatGT...\n",
      "\n",
      "Interpreting binary file as default dtype='int16'. If data was saved in a different format, specify `data_dtype`.\n",
      "Using GPU for PyTorch computations. Specify `device` to change this.\n",
      "Preprocessing filters computed in  73.80s; total  73.86s\n",
      "\n",
      "computing drift\n",
      "Re-computing universal templates from data.\n"
     ]
    },
    {
     "name": "stderr",
     "output_type": "stream",
     "text": [
      "c:\\Users\\dbh60\\.conda\\envs\\kilosort\\lib\\site-packages\\threadpoolctl.py:1214: RuntimeWarning: \n",
      "Found Intel OpenMP ('libiomp') and LLVM OpenMP ('libomp') loaded at\n",
      "the same time. Both libraries are known to be incompatible and this\n",
      "can cause random crashes or deadlocks on Linux when loaded in the\n",
      "same Python program.\n",
      "Using threadpoolctl may cause crashes or deadlocks. For more\n",
      "information and possible workarounds, please see\n",
      "    https://github.com/joblib/threadpoolctl/blob/master/multiple_openmp.md\n",
      "\n",
      "  warnings.warn(msg, RuntimeWarning)\n",
      "100%|██████████| 13507/13507 [2:26:06<00:00,  1.54it/s]  \n"
     ]
    },
    {
     "name": "stdout",
     "output_type": "stream",
     "text": [
      "drift computed in  9411.45s; total  9485.34s\n",
      "\n",
      "Extracting spikes using templates\n",
      "Re-computing universal templates from data.\n"
     ]
    },
    {
     "name": "stderr",
     "output_type": "stream",
     "text": [
      "100%|██████████| 13507/13507 [2:28:53<00:00,  1.51it/s]  \n"
     ]
    },
    {
     "name": "stdout",
     "output_type": "stream",
     "text": [
      "36410702 spikes extracted in  9011.34s; total  18496.78s\n",
      "\n",
      "First clustering\n"
     ]
    },
    {
     "name": "stderr",
     "output_type": "stream",
     "text": [
      "100%|██████████| 24/24 [1:20:59<00:00, 202.49s/it]\n"
     ]
    },
    {
     "name": "stdout",
     "output_type": "stream",
     "text": [
      "1301 clusters found, in  4874.39s; total  23371.17s\n",
      "\n",
      "Extracting spikes using cluster waveforms\n"
     ]
    },
    {
     "name": "stderr",
     "output_type": "stream",
     "text": [
      "100%|██████████| 13507/13507 [1:45:19<00:00,  2.14it/s]\n"
     ]
    },
    {
     "name": "stdout",
     "output_type": "stream",
     "text": [
      "58358271 spikes extracted in  6346.31s; total  29717.48s\n",
      "\n",
      "Final clustering\n"
     ]
    },
    {
     "name": "stderr",
     "output_type": "stream",
     "text": [
      "100%|██████████| 24/24 [9:02:53<00:00, 1357.23s/it]   \n"
     ]
    },
    {
     "name": "stdout",
     "output_type": "stream",
     "text": [
      "819 clusters found, in  32573.84s; total  62291.46s\n",
      "\n",
      "Merging clusters\n",
      "736 units found, in  161.53s; total  62452.99s\n",
      "\n",
      "Saving to phy and computing refractory periods\n",
      "272 units found with good refractory periods\n",
      "\n",
      "Total runtime: 62952.72s = 17:29:13 h:m:s\n"
     ]
    }
   ],
   "source": [
    "# set your data directory here, should contain the .ap.bin and .ap.meta files\n",
    "file_dir = Path(\"D:\\\\SortingTemp\\\\24-05-31_DH23_A1-IC_g0\\\\24-05-31_DH23_A1-IC_g0_imec0\")\n",
    "\n",
    "# skip CatGT if already ran\n",
    "skip_catgt = True\n",
    "\n",
    "# useful Kilosort settings\n",
    "config = {'tmin': 0, # start time in seconds\n",
    "          'tmax': np.inf, # end time in seconds\n",
    "          'artifact_threshold': np.inf, # threshold for detecting artifacts\n",
    "          'batch_size': 60000, # number of samples per batch\n",
    "          'nblocks': 1, # number of blocks to split the data into for drift correction\n",
    "          'Th_universal': 9, # threshold for detecting spikes used in universal templates\n",
    "          'Th_learned': 8} # threshold for detecting spikes used in learned templates\n",
    "\n",
    "# get the data dir\n",
    "data_dir = file_dir.parents[1]\n",
    "\n",
    "# get the meta file in the folder\n",
    "meta_file = str(list(file_dir.glob('*.ap.meta'))[0])\n",
    "\n",
    "# get the binary file in the folder\n",
    "bin_file = list(file_dir.glob('*.ap.bin'))\n",
    "bin_file = [str(x) for x in bin_file if str(x).find('_tcat') == -1][0]\n",
    "\n",
    "# get the run name\n",
    "run_name = file_dir.parts[-2]\n",
    "run_name = re.sub(r'_g\\d+$', '', run_name)\n",
    "\n",
    "# get the gate and trigger numbers\n",
    "gate_num = re.search(r'_g(\\d+)', bin_file).group(1)\n",
    "trig_num = re.search(r'_t(\\d+)', bin_file).group(1)\n",
    "\n",
    "# get the probe number\n",
    "probe_num = re.search(r'_imec(\\d+)', bin_file).group(1)\n",
    "\n",
    "# print directory and file names\n",
    "print('Files directory: {}'.format(file_dir))\n",
    "print('Meta file: {}'.format(meta_file))\n",
    "print('Binary file: {}'.format(bin_file))\n",
    "print('Data directory: {}'.format(data_dir))\n",
    "print('Run name: {}'.format(run_name))\n",
    "print('Gate number: {}'.format(gate_num))\n",
    "print('Trigger number: {}'.format(trig_num))\n",
    "print('Probe number: {}'.format(probe_num))\n",
    "\n",
    "# get the coordinates of the electrodes from the meta file\n",
    "xc, yc, shanks, kcoords, n_chan = sglx.MetaToCoords(Path(meta_file), outType=0, showPlot=True)\n",
    "shank_sep = 250\n",
    "xc = xc + shanks*shank_sep\n",
    "n_chan = int(n_chan)\n",
    "chan_map = np.arange(n_chan-1) # exclude last channel which is sync\n",
    "\n",
    "probe =  {'chanMap': chan_map, 'xc': xc, 'yc': yc, 'kcoords': kcoords, 'n_chan': n_chan}\n",
    "\n",
    "probe_file = os.path.join(str(file_dir), 'probe.json')\n",
    "print('Saving probe file to: {}'.format(probe_file))\n",
    "\n",
    "save_probe(probe, probe_file)\n",
    "\n",
    "# test if already ran CatGT\n",
    "tcat_file = bin_file.replace('_t'+trig_num, '_tcat')\n",
    "\n",
    "if skip_catgt and Path(tcat_file).exists():\n",
    "    print('CatGT already ran, skipping...')\n",
    "else:\n",
    "    print('Running CatGT...')\n",
    "    # file and directory names for CatGT\n",
    "    catgt_files = '-dir={} -run={} -g={} -t={} -prb={}'.format(\n",
    "        data_dir, run_name, gate_num, trig_num, probe_num)\n",
    "\n",
    "    # options for CatGT, can be edited as needed\n",
    "    catgt_opts = '-ap -prb_fld -gbldmx' # -apfilter=butter,2,300,9000, dropped filter\n",
    "\n",
    "    # full command for CatGT\n",
    "    catgt_cmd = 'CatGT {} {}'.format(catgt_files, catgt_opts)\n",
    "\n",
    "    # run catGT\n",
    "    cmd_out = subprocess.run(catgt_cmd, shell=True, capture_output=True)\n",
    "    print(cmd_out.stdout.decode('utf-8'))\n",
    "\n",
    "# initialize settings with default values\n",
    "settings = DEFAULT_SETTINGS\n",
    "\n",
    "# update settings with custom values from config\n",
    "for key, value in config.items():\n",
    "    settings[key] = value\n",
    "\n",
    "# run Kilosort\n",
    "ops, st, clu, tf, Wall, similar_templates, is_ref, est_contam_rate, kept_spikes \\\n",
    "    = run_kilosort(settings, probe=probe, filename=tcat_file, data_dir=file_dir)"
   ]
  },
  {
   "cell_type": "code",
   "execution_count": 2,
   "metadata": {},
   "outputs": [
    {
     "name": "stdout",
     "output_type": "stream",
     "text": [
      "Files directory: D:\\SortingTemp\\24-05-31_DH23_A1-IC_g0\\24-05-31_DH23_A1-IC_g0_imec1\n",
      "Meta file: D:\\SortingTemp\\24-05-31_DH23_A1-IC_g0\\24-05-31_DH23_A1-IC_g0_imec1\\24-05-31_DH23_A1-IC_g0_t0.imec1.ap.meta\n",
      "Binary file: D:\\SortingTemp\\24-05-31_DH23_A1-IC_g0\\24-05-31_DH23_A1-IC_g0_imec1\\24-05-31_DH23_A1-IC_g0_t0.imec1.ap.bin\n",
      "Data directory: D:\\SortingTemp\n",
      "Run name: 24-05-31_DH23_A1-IC\n",
      "Gate number: 0\n",
      "Trigger number: 0\n",
      "Probe number: 1\n"
     ]
    },
    {
     "data": {
      "image/png": "[encoded data removed]",
      "text/plain": [
       "<Figure size 200x1200 with 1 Axes>"
      ]
     },
     "metadata": {},
     "output_type": "display_data"
    },
    {
     "name": "stdout",
     "output_type": "stream",
     "text": [
      "Saving probe file to: D:\\SortingTemp\\24-05-31_DH23_A1-IC_g0\\24-05-31_DH23_A1-IC_g0_imec1\\probe.json\n",
      "CatGT already ran, skipping...\n",
      "Interpreting binary file as default dtype='int16'. If data was saved in a different format, specify `data_dtype`.\n",
      "Using GPU for PyTorch computations. Specify `device` to change this.\n",
      "Preprocessing filters computed in  68.50s; total  68.55s\n",
      "\n",
      "computing drift\n",
      "Re-computing universal templates from data.\n"
     ]
    },
    {
     "name": "stderr",
     "output_type": "stream",
     "text": [
      "c:\\Users\\dbh60\\.conda\\envs\\kilosort\\lib\\site-packages\\threadpoolctl.py:1214: RuntimeWarning: \n",
      "Found Intel OpenMP ('libiomp') and LLVM OpenMP ('libomp') loaded at\n",
      "the same time. Both libraries are known to be incompatible and this\n",
      "can cause random crashes or deadlocks on Linux when loaded in the\n",
      "same Python program.\n",
      "Using threadpoolctl may cause crashes or deadlocks. For more\n",
      "information and possible workarounds, please see\n",
      "    https://github.com/joblib/threadpoolctl/blob/master/multiple_openmp.md\n",
      "\n",
      "  warnings.warn(msg, RuntimeWarning)\n",
      "100%|██████████| 13507/13507 [2:27:03<00:00,  1.53it/s]   \n"
     ]
    },
    {
     "name": "stdout",
     "output_type": "stream",
     "text": [
      "drift computed in  9448.79s; total  9517.38s\n",
      "\n",
      "Extracting spikes using templates\n",
      "Re-computing universal templates from data.\n"
     ]
    },
    {
     "name": "stderr",
     "output_type": "stream",
     "text": [
      "100%|██████████| 13507/13507 [2:25:31<00:00,  1.55it/s]   \n"
     ]
    },
    {
     "name": "stdout",
     "output_type": "stream",
     "text": [
      "37611279 spikes extracted in  8802.05s; total  18319.53s\n",
      "\n",
      "First clustering\n"
     ]
    },
    {
     "name": "stderr",
     "output_type": "stream",
     "text": [
      "100%|██████████| 24/24 [1:20:18<00:00, 200.76s/it]\n"
     ]
    },
    {
     "name": "stdout",
     "output_type": "stream",
     "text": [
      "1310 clusters found, in  4831.48s; total  23151.01s\n",
      "\n",
      "Extracting spikes using cluster waveforms\n"
     ]
    },
    {
     "name": "stderr",
     "output_type": "stream",
     "text": [
      "100%|██████████| 13507/13507 [1:38:39<00:00,  2.28it/s]  \n"
     ]
    },
    {
     "name": "stdout",
     "output_type": "stream",
     "text": [
      "49513574 spikes extracted in  5963.53s; total  29114.54s\n",
      "\n",
      "Final clustering\n"
     ]
    },
    {
     "name": "stderr",
     "output_type": "stream",
     "text": [
      "100%|██████████| 24/24 [2:02:28<00:00, 306.17s/it]  \n"
     ]
    },
    {
     "name": "stdout",
     "output_type": "stream",
     "text": [
      "910 clusters found, in  7348.44s; total  36463.15s\n",
      "\n",
      "Merging clusters\n",
      "688 units found, in  134.82s; total  36597.97s\n",
      "\n",
      "Saving to phy and computing refractory periods\n",
      "324 units found with good refractory periods\n",
      "\n",
      "Total runtime: 37044.25s = 10:17:24 h:m:s\n"
     ]
    }
   ],
   "source": [
    "# set your data directory here, should contain the .ap.bin and .ap.meta files\n",
    "file_dir = Path(\"D:\\\\SortingTemp\\\\24-05-31_DH23_A1-IC_g0\\\\24-05-31_DH23_A1-IC_g0_imec1\")\n",
    "\n",
    "# skip CatGT if already ran\n",
    "skip_catgt = True\n",
    "\n",
    "# useful Kilosort settings\n",
    "config = {'tmin': 0, # start time in seconds\n",
    "          'tmax': np.inf, # end time in seconds\n",
    "          'artifact_threshold': np.inf, # threshold for detecting artifacts\n",
    "          'batch_size': 60000, # number of samples per batch\n",
    "          'nblocks': 1, # number of blocks to split the data into for drift correction\n",
    "          'Th_universal': 9, # threshold for detecting spikes used in universal templates\n",
    "          'Th_learned': 9} # threshold for detecting spikes used in learned templates\n",
    "\n",
    "# get the data dir\n",
    "data_dir = file_dir.parents[1]\n",
    "\n",
    "# get the meta file in the folder\n",
    "meta_file = str(list(file_dir.glob('*.ap.meta'))[0])\n",
    "\n",
    "# get the binary file in the folder\n",
    "bin_file = list(file_dir.glob('*.ap.bin'))\n",
    "bin_file = [str(x) for x in bin_file if str(x).find('_tcat') == -1][0]\n",
    "\n",
    "# get the run name\n",
    "run_name = file_dir.parts[-2]\n",
    "run_name = re.sub(r'_g\\d+$', '', run_name)\n",
    "\n",
    "# get the gate and trigger numbers\n",
    "gate_num = re.search(r'_g(\\d+)', bin_file).group(1)\n",
    "trig_num = re.search(r'_t(\\d+)', bin_file).group(1)\n",
    "\n",
    "# get the probe number\n",
    "probe_num = re.search(r'_imec(\\d+)', bin_file).group(1)\n",
    "\n",
    "# print directory and file names\n",
    "print('Files directory: {}'.format(file_dir))\n",
    "print('Meta file: {}'.format(meta_file))\n",
    "print('Binary file: {}'.format(bin_file))\n",
    "print('Data directory: {}'.format(data_dir))\n",
    "print('Run name: {}'.format(run_name))\n",
    "print('Gate number: {}'.format(gate_num))\n",
    "print('Trigger number: {}'.format(trig_num))\n",
    "print('Probe number: {}'.format(probe_num))\n",
    "\n",
    "# get the coordinates of the electrodes from the meta file\n",
    "xc, yc, shanks, kcoords, n_chan = sglx.MetaToCoords(Path(meta_file), outType=0, showPlot=True)\n",
    "shank_sep = 250\n",
    "xc = xc + shanks*shank_sep\n",
    "n_chan = int(n_chan)\n",
    "chan_map = np.arange(n_chan-1) # exclude last channel which is sync\n",
    "\n",
    "probe =  {'chanMap': chan_map, 'xc': xc, 'yc': yc, 'kcoords': kcoords, 'n_chan': n_chan}\n",
    "\n",
    "probe_file = os.path.join(str(file_dir), 'probe.json')\n",
    "print('Saving probe file to: {}'.format(probe_file))\n",
    "\n",
    "save_probe(probe, probe_file)\n",
    "\n",
    "# test if already ran CatGT\n",
    "tcat_file = bin_file.replace('_t'+trig_num, '_tcat')\n",
    "\n",
    "if skip_catgt and Path(tcat_file).exists():\n",
    "    print('CatGT already ran, skipping...')\n",
    "else:\n",
    "    print('Running CatGT...')\n",
    "    # file and directory names for CatGT\n",
    "    catgt_files = '-dir={} -run={} -g={} -t={} -prb={}'.format(\n",
    "        data_dir, run_name, gate_num, trig_num, probe_num)\n",
    "\n",
    "    # options for CatGT, can be edited as needed\n",
    "    catgt_opts = '-ap -prb_fld -gbldmx' # -apfilter=butter,2,300,9000, dropped filter\n",
    "\n",
    "    # full command for CatGT\n",
    "    catgt_cmd = 'CatGT {} {}'.format(catgt_files, catgt_opts)\n",
    "\n",
    "    # run catGT\n",
    "    cmd_out = subprocess.run(catgt_cmd, shell=True, capture_output=True)\n",
    "    print(cmd_out.stdout.decode('utf-8'))\n",
    "\n",
    "# initialize settings with default values\n",
    "settings = DEFAULT_SETTINGS\n",
    "\n",
    "# update settings with custom values from config\n",
    "for key, value in config.items():\n",
    "    settings[key] = value\n",
    "\n",
    "# run Kilosort\n",
    "ops, st, clu, tf, Wall, similar_templates, is_ref, est_contam_rate, kept_spikes \\\n",
    "    = run_kilosort(settings, probe=probe, filename=tcat_file, data_dir=file_dir)"
   ]
  },
  {
   "cell_type": "markdown",
   "metadata": {},
   "source": [
    "### Sorting data from 24-06-03"
   ]
  },
  {
   "cell_type": "code",
   "execution_count": 3,
   "metadata": {},
   "outputs": [
    {
     "name": "stdout",
     "output_type": "stream",
     "text": [
      "Files directory: D:\\SortingTemp\\24-06-03_DH23_LEC-LL_g0\\24-06-03_DH23_LEC-LL_g0_imec0\n",
      "Meta file: D:\\SortingTemp\\24-06-03_DH23_LEC-LL_g0\\24-06-03_DH23_LEC-LL_g0_imec0\\24-06-03_DH23_LEC-LL_g0_t0.imec0.ap.meta\n",
      "Binary file: D:\\SortingTemp\\24-06-03_DH23_LEC-LL_g0\\24-06-03_DH23_LEC-LL_g0_imec0\\24-06-03_DH23_LEC-LL_g0_t0.imec0.ap.bin\n",
      "Data directory: D:\\SortingTemp\n",
      "Run name: 24-06-03_DH23_LEC-LL\n",
      "Gate number: 0\n",
      "Trigger number: 0\n",
      "Probe number: 0\n"
     ]
    },
    {
     "data": {
      "image/png": "[encoded data removed]",
      "text/plain": [
       "<Figure size 200x1200 with 1 Axes>"
      ]
     },
     "metadata": {},
     "output_type": "display_data"
    },
    {
     "name": "stdout",
     "output_type": "stream",
     "text": [
      "Saving probe file to: D:\\SortingTemp\\24-06-03_DH23_LEC-LL_g0\\24-06-03_DH23_LEC-LL_g0_imec0\\probe.json\n",
      "CatGT already ran, skipping...\n",
      "Interpreting binary file as default dtype='int16'. If data was saved in a different format, specify `data_dtype`.\n",
      "Using GPU for PyTorch computations. Specify `device` to change this.\n",
      "Preprocessing filters computed in  56.16s; total  56.22s\n",
      "\n",
      "computing drift\n",
      "Re-computing universal templates from data.\n"
     ]
    },
    {
     "name": "stderr",
     "output_type": "stream",
     "text": [
      "c:\\Users\\dbh60\\.conda\\envs\\kilosort\\lib\\site-packages\\threadpoolctl.py:1214: RuntimeWarning: \n",
      "Found Intel OpenMP ('libiomp') and LLVM OpenMP ('libomp') loaded at\n",
      "the same time. Both libraries are known to be incompatible and this\n",
      "can cause random crashes or deadlocks on Linux when loaded in the\n",
      "same Python program.\n",
      "Using threadpoolctl may cause crashes or deadlocks. For more\n",
      "information and possible workarounds, please see\n",
      "    https://github.com/joblib/threadpoolctl/blob/master/multiple_openmp.md\n",
      "\n",
      "  warnings.warn(msg, RuntimeWarning)\n",
      "100%|██████████| 9761/9761 [1:45:04<00:00,  1.55it/s]  \n"
     ]
    },
    {
     "name": "stdout",
     "output_type": "stream",
     "text": [
      "drift computed in  6698.80s; total  6755.07s\n",
      "\n",
      "Extracting spikes using templates\n",
      "Re-computing universal templates from data.\n"
     ]
    },
    {
     "name": "stderr",
     "output_type": "stream",
     "text": [
      "100%|██████████| 9761/9761 [1:41:51<00:00,  1.60it/s]  \n"
     ]
    },
    {
     "name": "stdout",
     "output_type": "stream",
     "text": [
      "20402374 spikes extracted in  6177.33s; total  12932.49s\n",
      "\n",
      "First clustering\n"
     ]
    },
    {
     "name": "stderr",
     "output_type": "stream",
     "text": [
      "100%|██████████| 24/24 [20:47<00:00, 51.99s/it] \n"
     ]
    },
    {
     "name": "stdout",
     "output_type": "stream",
     "text": [
      "1406 clusters found, in  1265.29s; total  14197.78s\n",
      "\n",
      "Extracting spikes using cluster waveforms\n"
     ]
    },
    {
     "name": "stderr",
     "output_type": "stream",
     "text": [
      "100%|██████████| 9761/9761 [1:02:52<00:00,  2.59it/s]\n"
     ]
    },
    {
     "name": "stdout",
     "output_type": "stream",
     "text": [
      "27504164 spikes extracted in  3782.22s; total  17980.00s\n",
      "\n",
      "Final clustering\n"
     ]
    },
    {
     "name": "stderr",
     "output_type": "stream",
     "text": [
      "100%|██████████| 24/24 [38:17<00:00, 95.74s/it] \n"
     ]
    },
    {
     "name": "stdout",
     "output_type": "stream",
     "text": [
      "743 clusters found, in  2298.05s; total  20278.11s\n",
      "\n",
      "Merging clusters\n",
      "692 units found, in  99.45s; total  20377.56s\n",
      "\n",
      "Saving to phy and computing refractory periods\n",
      "308 units found with good refractory periods\n",
      "\n",
      "Total runtime: 20621.21s = 05:43:41 h:m:s\n"
     ]
    }
   ],
   "source": [
    "# set your data directory here, should contain the .ap.bin and .ap.meta files\n",
    "file_dir = Path(\"D:\\\\SortingTemp\\\\24-06-03_DH23_LEC-LL_g0\\\\24-06-03_DH23_LEC-LL_g0_imec0\")\n",
    "\n",
    "# skip CatGT if already ran\n",
    "skip_catgt = True\n",
    "\n",
    "# useful Kilosort settings\n",
    "config = {'tmin': 0, # start time in seconds\n",
    "          'tmax': np.inf, # end time in seconds\n",
    "          'artifact_threshold': np.inf, # threshold for detecting artifacts\n",
    "          'batch_size': 60000, # number of samples per batch\n",
    "          'nblocks': 1, # number of blocks to split the data into for drift correction\n",
    "          'Th_universal': 9, # threshold for detecting spikes used in universal templates\n",
    "          'Th_learned': 8} # threshold for detecting spikes used in learned templates\n",
    "\n",
    "# get the data dir\n",
    "data_dir = file_dir.parents[1]\n",
    "\n",
    "# get the meta file in the folder\n",
    "meta_file = str(list(file_dir.glob('*.ap.meta'))[0])\n",
    "\n",
    "# get the binary file in the folder\n",
    "bin_file = list(file_dir.glob('*.ap.bin'))\n",
    "bin_file = [str(x) for x in bin_file if str(x).find('_tcat') == -1][0]\n",
    "\n",
    "# get the run name\n",
    "run_name = file_dir.parts[-2]\n",
    "run_name = re.sub(r'_g\\d+$', '', run_name)\n",
    "\n",
    "# get the gate and trigger numbers\n",
    "gate_num = re.search(r'_g(\\d+)', bin_file).group(1)\n",
    "trig_num = re.search(r'_t(\\d+)', bin_file).group(1)\n",
    "\n",
    "# get the probe number\n",
    "probe_num = re.search(r'_imec(\\d+)', bin_file).group(1)\n",
    "\n",
    "# print directory and file names\n",
    "print('Files directory: {}'.format(file_dir))\n",
    "print('Meta file: {}'.format(meta_file))\n",
    "print('Binary file: {}'.format(bin_file))\n",
    "print('Data directory: {}'.format(data_dir))\n",
    "print('Run name: {}'.format(run_name))\n",
    "print('Gate number: {}'.format(gate_num))\n",
    "print('Trigger number: {}'.format(trig_num))\n",
    "print('Probe number: {}'.format(probe_num))\n",
    "\n",
    "# get the coordinates of the electrodes from the meta file\n",
    "xc, yc, shanks, kcoords, n_chan = sglx.MetaToCoords(Path(meta_file), outType=0, showPlot=True)\n",
    "shank_sep = 250\n",
    "xc = xc + shanks*shank_sep\n",
    "n_chan = int(n_chan)\n",
    "chan_map = np.arange(n_chan-1) # exclude last channel which is sync\n",
    "\n",
    "probe =  {'chanMap': chan_map, 'xc': xc, 'yc': yc, 'kcoords': kcoords, 'n_chan': n_chan}\n",
    "\n",
    "probe_file = os.path.join(str(file_dir), 'probe.json')\n",
    "print('Saving probe file to: {}'.format(probe_file))\n",
    "\n",
    "save_probe(probe, probe_file)\n",
    "\n",
    "# test if already ran CatGT\n",
    "tcat_file = bin_file.replace('_t'+trig_num, '_tcat')\n",
    "\n",
    "if Path(tcat_file).exists():\n",
    "    bin_size = Path(bin_file).stat().st_size\n",
    "    tcat_size = Path(tcat_file).stat().st_size\n",
    "    tcat_exists = bin_size == tcat_size\n",
    "    \n",
    "if skip_catgt and tcat_exists:\n",
    "    print('CatGT already ran, skipping...')\n",
    "else:\n",
    "    print('Running CatGT...')\n",
    "    # file and directory names for CatGT\n",
    "    catgt_files = '-dir={} -run={} -g={} -t={} -prb={}'.format(\n",
    "        data_dir, run_name, gate_num, trig_num, probe_num)\n",
    "\n",
    "    # options for CatGT, can be edited as needed\n",
    "    catgt_opts = '-ap -prb_fld -gbldmx' # -apfilter=butter,2,300,9000, dropped filter\n",
    "\n",
    "    # full command for CatGT\n",
    "    catgt_cmd = 'CatGT {} {}'.format(catgt_files, catgt_opts)\n",
    "\n",
    "    # run catGT\n",
    "    cmd_out = subprocess.run(catgt_cmd, shell=True, capture_output=True)\n",
    "    print(cmd_out.stdout.decode('utf-8'))\n",
    "\n",
    "# initialize settings with default values\n",
    "settings = DEFAULT_SETTINGS\n",
    "\n",
    "# update settings with custom values from config\n",
    "for key, value in config.items():\n",
    "    settings[key] = value\n",
    "\n",
    "# run Kilosort\n",
    "ops, st, clu, tf, Wall, similar_templates, is_ref, est_contam_rate, kept_spikes \\\n",
    "    = run_kilosort(settings, probe=probe, filename=tcat_file, data_dir=file_dir)"
   ]
  },
  {
   "cell_type": "code",
   "execution_count": 2,
   "metadata": {},
   "outputs": [
    {
     "name": "stdout",
     "output_type": "stream",
     "text": [
      "Files directory: D:\\SortingTemp\\24-06-03_DH23_LEC-LL_g0\\24-06-03_DH23_LEC-LL_g0_imec1\n",
      "Meta file: D:\\SortingTemp\\24-06-03_DH23_LEC-LL_g0\\24-06-03_DH23_LEC-LL_g0_imec1\\24-06-03_DH23_LEC-LL_g0_t0.imec1.ap.meta\n",
      "Binary file: D:\\SortingTemp\\24-06-03_DH23_LEC-LL_g0\\24-06-03_DH23_LEC-LL_g0_imec1\\24-06-03_DH23_LEC-LL_g0_t0.imec1.ap.bin\n",
      "Data directory: D:\\SortingTemp\n",
      "Run name: 24-06-03_DH23_LEC-LL\n",
      "Gate number: 0\n",
      "Trigger number: 0\n",
      "Probe number: 1\n"
     ]
    },
    {
     "data": {
      "image/png": "[encoded data removed]",
      "text/plain": [
       "<Figure size 200x1200 with 1 Axes>"
      ]
     },
     "metadata": {},
     "output_type": "display_data"
    },
    {
     "name": "stdout",
     "output_type": "stream",
     "text": [
      "Saving probe file to: D:\\SortingTemp\\24-06-03_DH23_LEC-LL_g0\\24-06-03_DH23_LEC-LL_g0_imec1\\probe.json\n",
      "CatGT already ran, skipping...\n",
      "Interpreting binary file as default dtype='int16'. If data was saved in a different format, specify `data_dtype`.\n",
      "Using GPU for PyTorch computations. Specify `device` to change this.\n",
      "Preprocessing filters computed in  49.01s; total  49.05s\n",
      "\n",
      "computing drift\n",
      "Re-computing universal templates from data.\n"
     ]
    },
    {
     "name": "stderr",
     "output_type": "stream",
     "text": [
      "c:\\Users\\dbh60\\.conda\\envs\\kilosort\\lib\\site-packages\\threadpoolctl.py:1214: RuntimeWarning: \n",
      "Found Intel OpenMP ('libiomp') and LLVM OpenMP ('libomp') loaded at\n",
      "the same time. Both libraries are known to be incompatible and this\n",
      "can cause random crashes or deadlocks on Linux when loaded in the\n",
      "same Python program.\n",
      "Using threadpoolctl may cause crashes or deadlocks. For more\n",
      "information and possible workarounds, please see\n",
      "    https://github.com/joblib/threadpoolctl/blob/master/multiple_openmp.md\n",
      "\n",
      "  warnings.warn(msg, RuntimeWarning)\n",
      "100%|██████████| 9762/9762 [1:13:34<00:00,  2.21it/s]\n"
     ]
    },
    {
     "name": "stdout",
     "output_type": "stream",
     "text": [
      "drift computed in  4896.34s; total  4945.42s\n",
      "\n",
      "Extracting spikes using templates\n",
      "Re-computing universal templates from data.\n"
     ]
    },
    {
     "name": "stderr",
     "output_type": "stream",
     "text": [
      "100%|██████████| 9762/9762 [1:12:36<00:00,  2.24it/s]\n"
     ]
    },
    {
     "name": "stdout",
     "output_type": "stream",
     "text": [
      "28141941 spikes extracted in  4407.11s; total  9352.56s\n",
      "\n",
      "First clustering\n"
     ]
    },
    {
     "name": "stderr",
     "output_type": "stream",
     "text": [
      "100%|██████████| 96/96 [1:40:14<00:00, 62.66s/it]   \n"
     ]
    },
    {
     "name": "stdout",
     "output_type": "stream",
     "text": [
      "967 clusters found, in  6022.61s; total  15375.17s\n",
      "\n",
      "Extracting spikes using cluster waveforms\n"
     ]
    },
    {
     "name": "stderr",
     "output_type": "stream",
     "text": [
      "100%|██████████| 9762/9762 [1:03:29<00:00,  2.56it/s]\n"
     ]
    },
    {
     "name": "stdout",
     "output_type": "stream",
     "text": [
      "38275626 spikes extracted in  3824.96s; total  19200.15s\n",
      "\n",
      "Final clustering\n"
     ]
    },
    {
     "name": "stderr",
     "output_type": "stream",
     "text": [
      " 25%|██▌       | 24/96 [17:46<1:06:59, 55.83s/it]"
     ]
    }
   ],
   "source": [
    "# set your data directory here, should contain the .ap.bin and .ap.meta files\n",
    "file_dir = Path(\"D:\\\\SortingTemp\\\\24-06-03_DH23_LEC-LL_g0\\\\24-06-03_DH23_LEC-LL_g0_imec1\")\n",
    "\n",
    "# skip CatGT if already ran\n",
    "skip_catgt = True\n",
    "\n",
    "# useful Kilosort settings\n",
    "config = {'tmin': 0, # start time in seconds\n",
    "          'tmax': np.inf, # end time in seconds\n",
    "          'artifact_threshold': np.inf, # threshold for detecting artifacts\n",
    "          'batch_size': 60000, # number of samples per batch\n",
    "          'nblocks': 1, # number of blocks to split the data into for drift correction\n",
    "          'Th_universal': 9, # threshold for detecting spikes used in universal templates\n",
    "          'Th_learned': 10} # threshold for detecting spikes used in learned templates\n",
    "\n",
    "# get the data dir\n",
    "data_dir = file_dir.parents[1]\n",
    "\n",
    "# get the meta file in the folder\n",
    "meta_file = str(list(file_dir.glob('*.ap.meta'))[0])\n",
    "\n",
    "# get the binary file in the folder\n",
    "bin_file = list(file_dir.glob('*.ap.bin'))\n",
    "bin_file = [str(x) for x in bin_file if str(x).find('_tcat') == -1][0]\n",
    "\n",
    "# get the run name\n",
    "run_name = file_dir.parts[-2]\n",
    "run_name = re.sub(r'_g\\d+$', '', run_name)\n",
    "\n",
    "# get the gate and trigger numbers\n",
    "gate_num = re.search(r'_g(\\d+)', bin_file).group(1)\n",
    "trig_num = re.search(r'_t(\\d+)', bin_file).group(1)\n",
    "\n",
    "# get the probe number\n",
    "probe_num = re.search(r'_imec(\\d+)', bin_file).group(1)\n",
    "\n",
    "# print directory and file names\n",
    "print('Files directory: {}'.format(file_dir))\n",
    "print('Meta file: {}'.format(meta_file))\n",
    "print('Binary file: {}'.format(bin_file))\n",
    "print('Data directory: {}'.format(data_dir))\n",
    "print('Run name: {}'.format(run_name))\n",
    "print('Gate number: {}'.format(gate_num))\n",
    "print('Trigger number: {}'.format(trig_num))\n",
    "print('Probe number: {}'.format(probe_num))\n",
    "\n",
    "# get the coordinates of the electrodes from the meta file\n",
    "xc, yc, shanks, kcoords, n_chan = sglx.MetaToCoords(Path(meta_file), outType=0, showPlot=True)\n",
    "shank_sep = 250\n",
    "xc = xc + shanks*shank_sep\n",
    "n_chan = int(n_chan)\n",
    "chan_map = np.arange(n_chan-1) # exclude last channel which is sync\n",
    "\n",
    "probe =  {'chanMap': chan_map, 'xc': xc, 'yc': yc, 'kcoords': kcoords, 'n_chan': n_chan}\n",
    "\n",
    "probe_file = os.path.join(str(file_dir), 'probe.json')\n",
    "print('Saving probe file to: {}'.format(probe_file))\n",
    "\n",
    "save_probe(probe, probe_file)\n",
    "\n",
    "# test if already ran CatGT\n",
    "tcat_file = bin_file.replace('_t'+trig_num, '_tcat')\n",
    "\n",
    "if Path(tcat_file).exists():\n",
    "    bin_size = Path(bin_file).stat().st_size\n",
    "    tcat_size = Path(tcat_file).stat().st_size\n",
    "    tcat_exists = bin_size == tcat_size\n",
    "else:\n",
    "    tcat_exists = False\n",
    "\n",
    "if skip_catgt and tcat_exists:\n",
    "    print('CatGT already ran, skipping...')\n",
    "else:\n",
    "    print('Running CatGT...')\n",
    "    # file and directory names for CatGT\n",
    "    catgt_files = '-dir={} -run={} -g={} -t={} -prb={}'.format(\n",
    "        data_dir, run_name, gate_num, trig_num, probe_num)\n",
    "\n",
    "    # options for CatGT, can be edited as needed\n",
    "    catgt_opts = '-ap -prb_fld -gbldmx' # -apfilter=butter,2,300,9000, dropped filter\n",
    "\n",
    "    # full command for CatGT\n",
    "    catgt_cmd = 'CatGT {} {}'.format(catgt_files, catgt_opts)\n",
    "\n",
    "    # run catGT\n",
    "    cmd_out = subprocess.run(catgt_cmd, shell=True, capture_output=True)\n",
    "    print(cmd_out.stdout.decode('utf-8'))\n",
    "\n",
    "# initialize settings with default values\n",
    "settings = DEFAULT_SETTINGS\n",
    "\n",
    "# update settings with custom values from config\n",
    "for key, value in config.items():\n",
    "    settings[key] = value\n",
    "\n",
    "# run Kilosort\n",
    "ops, st, clu, tf, Wall, similar_templates, is_ref, est_contam_rate, kept_spikes \\\n",
    "    = run_kilosort(settings, probe=probe, filename=tcat_file, data_dir=file_dir)"
   ]
  }
 ],
 "metadata": {
  "kernelspec": {
   "display_name": "base",
   "language": "python",
   "name": "python3"
  },
  "language_info": {
   "codemirror_mode": {
    "name": "ipython",
    "version": 3
   },
   "file_extension": ".py",
   "mimetype": "text/x-python",
   "name": "python",
   "nbconvert_exporter": "python",
   "pygments_lexer": "ipython3",
   "version": "3.9.19"
  }
 },
 "nbformat": 4,
 "nbformat_minor": 2
}
